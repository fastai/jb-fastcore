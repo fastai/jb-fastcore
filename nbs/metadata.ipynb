{
 "cells": [
  {
   "cell_type": "markdown",
   "id": "combined-recipient",
   "metadata": {},
   "source": [
    "# Insert Metadata\n",
    "\n",
    "Poopulate cell metadata by using cell comments.  "
   ]
  },
  {
   "cell_type": "code",
   "execution_count": null,
   "id": "quick-partition",
   "metadata": {
    "lines_to_next_cell": 1
   },
   "outputs": [],
   "source": [
    "from fastcore.all import *\n",
    "from nbdev.export2html import (_re_show_doc, _re_hide_input, _re_hide_output, _re_hide, _re_cell_to_remove, _mk_flag_re,\n",
    "                              _re_cell_to_collapse_closed, _re_cell_to_collapse_output, check_re_multi, check_re)\n",
    "from nbdev.export import check_re_multi\n",
    "import glob\n",
    "import nbformat as nbf"
   ]
  },
  {
   "cell_type": "code",
   "execution_count": null,
   "id": "plastic-drain",
   "metadata": {
    "lines_to_next_cell": 1,
    "tags": [
     "remove-input"
    ]
   },
   "outputs": [],
   "source": [
    "#export\n",
    "def nbglob(fname='.', recursive=False, extension='.ipynb', config_key='nbs_path') -> L:\n",
    "    \"Find all files in a directory matching an extension given a `config_key`. Ignores hidden directories and filenames starting with `_`\"\n",
    "    fname = Path(fname)\n",
    "    if fname.is_dir(): fname = f'{fname.absolute()}/**/*{extension}' if recursive else f'{fname.absolute()}/*{extension}'\n",
    "    fls = L(glob.glob(str(fname), recursive=recursive)).filter(lambda x: '/.' not in x).map(Path)\n",
    "    return fls.filter(lambda x: not x.name.startswith('_') and x.name.endswith(extension))"
   ]
  },
  {
   "cell_type": "code",
   "execution_count": null,
   "id": "electoral-pregnancy",
   "metadata": {},
   "outputs": [],
   "source": [
    "def upd_metadata(cell, tag):\n",
    "    cell_tags = list(set(cell.get('metadata', {}).get('tags', [])))\n",
    "    if tag not in cell_tags: cell_tags.append(tag)\n",
    "    cell['metadata']['tags'] = cell_tags"
   ]
  },
  {
   "cell_type": "code",
   "execution_count": null,
   "id": "welcome-proof",
   "metadata": {
    "tags": [
     "remove-input"
    ]
   },
   "outputs": [],
   "source": [
    "#export\n",
    "def hide(cell):\n",
    "    \"Hide inputs of `cell` that need to be hidden\"\n",
    "    if check_re_multi(cell, [_re_show_doc, *_re_hide_input]): upd_metadata(cell, 'remove-input')\n",
    "    elif check_re(cell, _re_hide_output): upd_metadata(cell, 'remove-output')\n",
    "    elif check_re_multi(cell, [_re_hide, _re_cell_to_remove]): upd_metadata(cell, 'remove-cell')\n",
    "    return cell\n",
    "\n",
    "\n",
    "_re_cell_to_collapse_input = _mk_flag_re('(collapse_input|collapse-input)', 0, \"Cell with #collapse_input\")\n",
    "\n",
    "def collapse_cells(cell):\n",
    "    \"Add a collapse button to inputs or outputs of `cell` in either the open or closed position\"\n",
    "    if check_re(cell, _re_cell_to_collapse_input): upd_metadata(cell,'hide-input')\n",
    "#     elif check_re(cell, _re_cell_to_collapse_open): upd_metadata(cell,'collapse_show')  THIS doesn't appear to be supported.\n",
    "    elif check_re(cell, _re_cell_to_collapse_output): upd_metadata(cell,'hide-output')\n",
    "    return cell"
   ]
  },
  {
   "cell_type": "code",
   "execution_count": null,
   "id": "historic-venice",
   "metadata": {},
   "outputs": [],
   "source": [
    "if __name__ == '__main__':\n",
    "\n",
    "    _func = compose(hide, collapse_cells)\n",
    "    files = nbglob('nbs/')\n",
    "\n",
    "    for file in files:\n",
    "        nb = nbf.read(file, nbf.NO_CONVERT)\n",
    "        for cell in nb.cells: _func(cell)\n",
    "        nbf.write(nb, file)"
   ]
  }
 ],
 "metadata": {
  "jupytext": {
   "cell_metadata_filter": "-all",
   "main_language": "python",
   "notebook_metadata_filter": "-all"
  }
 },
 "nbformat": 4,
 "nbformat_minor": 5
}
